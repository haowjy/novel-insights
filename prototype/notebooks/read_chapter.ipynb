{
 "cells": [
  {
   "cell_type": "code",
   "execution_count": 1,
   "metadata": {},
   "outputs": [],
   "source": [
    "%load_ext autoreload\n",
    "%autoreload 2\n",
    "\n",
    "import sys\n",
    "from pathlib import Path\n",
    "\n",
    "lib_path = Path('../../novelinsights/backend')\n",
    "sys.path.append(str(lib_path))"
   ]
  },
  {
   "cell_type": "code",
   "execution_count": 2,
   "metadata": {},
   "outputs": [],
   "source": [
    "from google import genai\n",
    "import anthropic\n",
    "\n",
    "from dotenv import load_dotenv\n",
    "import os\n",
    "\n",
    "load_dotenv(lib_path / '.env')\n",
    "GEMINI_API_KEY = os.getenv(\"GEMINI_API_KEY\", \"\")\n",
    "ANTHROPIC_API_KEY = os.getenv(\"ANTHROPIC_API_KEY\", \"\")\n",
    "\n",
    "from novelinsights.services.ai.llmclient import AnthropicClient, GoogleGeminiClient\n",
    "\n",
    "G_CLIENT = GoogleGeminiClient(genai.Client(api_key=GEMINI_API_KEY))\n",
    "A_CLIENT = AnthropicClient(anthropic.Anthropic(api_key=ANTHROPIC_API_KEY))\n",
    "\n",
    "USE_CACHED_RESPONSES = True"
   ]
  },
  {
   "cell_type": "code",
   "execution_count": 3,
   "metadata": {},
   "outputs": [],
   "source": [
    "import json\n",
    "from dataclasses import asdict\n",
    "\n",
    "from novelinsights.utils.mocks.mock_story import load_story\n",
    "\n",
    "STORY = load_story(file_dir=Path(\"../../novelinsights/backend/tests/resources/pokemon_amber/\"))\n",
    "\n",
    "CHAPTER_INDEX = 0"
   ]
  },
  {
   "cell_type": "code",
   "execution_count": 4,
   "metadata": {},
   "outputs": [],
   "source": [
    "from novelinsights.services.ai.llmclient import LLMResponse\n",
    "from novelinsights.utils.mocks.mock_llm import load_mock_summarize, load_mock_summarize_prompt, save_mock_summarize\n",
    "\n",
    "summarize_prompt = load_mock_summarize_prompt(STORY, CHAPTER_INDEX)\n",
    "\n",
    "summarize_resp: LLMResponse | None = None # type: ignore\n",
    "\n",
    "if USE_CACHED_RESPONSES:\n",
    "    summarize_resp = load_mock_summarize(STORY, CHAPTER_INDEX)\n",
    "\n",
    "if not summarize_resp:\n",
    "    summarize_resp = summarize_prompt.generate(client=A_CLIENT, store_config=True)\n",
    "    save_mock_summarize(STORY, CHAPTER_INDEX, summarize_resp)"
   ]
  },
  {
   "cell_type": "code",
   "execution_count": 34,
   "metadata": {},
   "outputs": [],
   "source": [
    "from novelinsights.utils.mocks.mock_llm import load_mock_find_entities, load_mock_find_entities_prompt, save_mock_find_entities\n",
    "from novelinsights.schemas.prompt_responses.narrative.chapterbychapter.find_entities import FindEntitiesOutputSchema\n",
    "\n",
    "find_entities_prompt = load_mock_find_entities_prompt(STORY, CHAPTER_INDEX)\n",
    "\n",
    "find_entities_resp: LLMResponse[FindEntitiesOutputSchema] | None = None # type: ignore\n",
    "\n",
    "if USE_CACHED_RESPONSES:\n",
    "    find_entities_resp = load_mock_find_entities(STORY, CHAPTER_INDEX)\n",
    "\n",
    "if not find_entities_resp:\n",
    "    find_entities_resp = find_entities_prompt.generate_structured(client=G_CLIENT, store_config=True)\n",
    "    save_mock_find_entities(STORY, CHAPTER_INDEX, find_entities_resp)\n",
    "\n",
    "find_entities_resp: LLMResponse[FindEntitiesOutputSchema]"
   ]
  },
  {
   "cell_type": "code",
   "execution_count": 35,
   "metadata": {},
   "outputs": [
    {
     "name": "stdout",
     "output_type": "stream",
     "text": [
      "----------------------------------------------------------------------------------------------------\n",
      "CHARACTER: AlexaTheGreat/Amber - CENTRAL\n",
      "\tThe main character, a Pokemon fan who isekais into the body of Amber, Dr. Fuji's deceased daughter.\n",
      "\trelated: Dr. Fuji, Amber, Mewtwo, Gyarados\n",
      "CHARACTER: Dr. Fuji - CENTRAL\n",
      "\tA scientist who is the father of Amber and involved in cloning and genetic experiments, specifically with Mewtwo. He shows great emotion and attachment towards the protagonist in Amber's body.\n",
      "\trelated: AlexaTheGreat/Amber, Amber, Mewtwo\n",
      "CHARACTER: Amber - MAJOR\n",
      "\tDr. Fuji's deceased daughter, whose body the protagonist now inhabits. She was seemingly part of a cloning experiment.\n",
      "\trelated: Dr. Fuji, AlexaTheGreat/Amber\n",
      "CHARACTER: Mewtwo - MAJOR\n",
      "\tA genetically engineered Pokemon of immense power, created by Dr. Fuji. It escapes containment and causes destruction.\n",
      "\trelated: Dr. Fuji, AlexaTheGreat/Amber\n",
      "----------------------------------------------------------------------------------------------------\n",
      "CHARACTER: Gyarados - SUPPORTING\n",
      "\tThe protagonist's level 40 Gyarados in the Pokemon game she was playing before her death.\n",
      "\trelated: AlexaTheGreat/Amber\n",
      "LOCATION: Laboratory - MAJOR\n",
      "\tThe underground laboratory where Dr. Fuji conducts his experiments, including the creation of Mewtwo and the cloning of Amber.\n",
      "\trelated: Dr. Fuji, Mewtwo, Amber\n",
      "----------------------------------------------------------------------------------------------------\n"
     ]
    }
   ],
   "source": [
    "from novelinsights.services.ai.agents.narrative.chapterbychapter import KeyEntities\n",
    "from novelinsights.types.knowledge import SignificanceLevel\n",
    "\n",
    "MIN_SIG_LEVEL=SignificanceLevel.SUPPORTING\n",
    "\n",
    "key_entities = KeyEntities(find_entities_resp.resp.entities)\n",
    "\n",
    "print(\"-\" * 100)\n",
    "for i, upsert_chunk in enumerate(key_entities.yield_for_upsert(min_sig_level=MIN_SIG_LEVEL)):\n",
    "    \n",
    "    for upsert_str in upsert_chunk:\n",
    "        print(upsert_str)\n",
    "    print(\"-\" * 100)"
   ]
  },
  {
   "cell_type": "code",
   "execution_count": 44,
   "metadata": {},
   "outputs": [],
   "source": [
    "from novelinsights.schemas.prompt_responses.narrative.chapterbychapter.upsert_entities import UpsertEntitiesOutputSchema\n",
    "from novelinsights.utils.mocks.mock_llm import load_mock_upsert_entities, load_mock_upsert_entities_prompt, save_mock_upsert_entities\n",
    "\n",
    "upsert_entities_prompt = load_mock_upsert_entities_prompt(STORY, CHAPTER_INDEX)\n",
    "\n",
    "upsert_entities_response_list: list[LLMResponse[UpsertEntitiesOutputSchema]] = []\n",
    "\n",
    "if USE_CACHED_RESPONSES:\n",
    "    upsert_entities_response_list = load_mock_upsert_entities(STORY, CHAPTER_INDEX)\n",
    "\n",
    "if not upsert_entities_response_list:\n",
    "    for i, upsert_chunk in enumerate(key_entities.yield_for_upsert(min_sig_level=MIN_SIG_LEVEL)):   \n",
    "        upsert_entities_prompt.update_prompt_template(new_entities=upsert_chunk)\n",
    "        \n",
    "        upsert_entities_response = upsert_entities_prompt.generate_structured(client=G_CLIENT)\n",
    "        save_mock_upsert_entities(STORY, CHAPTER_INDEX, upsert_entities_response, i)\n",
    "        \n",
    "        upsert_entities_response_list.append(upsert_entities_response)"
   ]
  },
  {
   "cell_type": "code",
   "execution_count": 41,
   "metadata": {},
   "outputs": [],
   "source": [
    "from novelinsights.schemas.prompt_responses.narrative.chapterbychapter.upsert_entities import UpsertEntity, UpsertRelationship\n",
    "\n",
    "\n",
    "all_entities: list[UpsertEntity] = []\n",
    "all_relationships: list[UpsertRelationship] = []\n",
    "for i in range(len(upsert_entities_response_list)):\n",
    "    all_entities.extend(upsert_entities_response_list[i].resp.entities)\n",
    "    all_relationships.extend(upsert_entities_response_list[i].resp.relationships)\n",
    "    "
   ]
  },
  {
   "cell_type": "code",
   "execution_count": 42,
   "metadata": {},
   "outputs": [
    {
     "name": "stdout",
     "output_type": "stream",
     "text": [
      "relationship_type=<RelationType.SOCIAL: 'SOCIAL'> relationship_composition=<RelationCompositionType.ASSOCIATES: 'ASSOCIATES'> source_entity='Dr. Fuji' target_entity='AlexaTheGreat/Amber' significance_level=<SignificanceLevel.CENTRAL: 'CENTRAL'> strength=<RelationshipStrength.STRONG: 'STRONG'> current_description='Dr. Fuji is the creator and father figure to both Amber and Mewtwo. He is protective of Amber and seems to care for her deeply.' description='Dr. Fuji is the creator of Mewtwo and the father of Amber. He shows a strong emotional bond with Amber and wants to recreate his family. He is responsible for the events unfolding in the lab due to his experiments.'\n",
      "relationship_type=<RelationType.SOCIAL: 'SOCIAL'> relationship_composition=<RelationCompositionType.BUILDS_UPON: 'BUILDS_UPON'> source_entity='AlexaTheGreat/Amber' target_entity='Dr. Fuji' significance_level=<SignificanceLevel.CENTRAL: 'CENTRAL'> strength=<RelationshipStrength.STRONG: 'STRONG'> current_description=\"Amber (AlexaTheGreat) is the reincarnation of the protagonist, and Dr. Fuji's deceased daughter. This creates a complex dynamic of familial love and a sense of the uncanny.\" description=\"Amber (AlexaTheGreat) is the reincarnation of the protagonist, and Dr. Fuji's deceased daughter. This creates a complex dynamic of familial love and a sense of the uncanny. Dr. Fuji is highly emotionally invested in Amber and wants to protect her.\"\n",
      "relationship_type=<RelationType.ORGANIZATIONAL: 'ORGANIZATIONAL'> relationship_composition=<RelationCompositionType.DERIVES_FROM: 'DERIVES_FROM'> source_entity='Dr. Fuji' target_entity='Mewtwo' significance_level=<SignificanceLevel.MAJOR: 'MAJOR'> strength=<RelationshipStrength.STRONG: 'STRONG'> current_description=\"Dr. Fuji created Mewtwo through genetic engineering. Mewtwo is a powerful and destructive force, representing the consequences of Dr. Fuji's actions.\" description=\"Dr. Fuji created Mewtwo through genetic engineering. Mewtwo is a powerful and destructive force, representing the consequences of Dr. Fuji's actions. The relationship is one of creator and creation, but also of responsibility and potential danger.\"\n",
      "relationship_type=<RelationType.ORGANIZATIONAL: 'ORGANIZATIONAL'> relationship_composition=<RelationCompositionType.DEPENDS_ON: 'DEPENDS_ON'> source_entity='Mewtwo' target_entity='Dr. Fuji' significance_level=<SignificanceLevel.MAJOR: 'MAJOR'> strength=<RelationshipStrength.STRONG: 'STRONG'> current_description=\"Mewtwo is a creation of Dr. Fuji. The relationship is characterized by Mewtwo's escape and the destruction it causes.\" description=\"Mewtwo is a creation of Dr. Fuji. The relationship is characterized by Mewtwo's escape and the destruction it causes. Mewtwo's destruction of the lab and potential threat to Amber puts the two in conflict.\"\n",
      "relationship_type=<RelationType.THEMATIC: 'THEMATIC'> relationship_composition=<RelationCompositionType.ASSOCIATES: 'ASSOCIATES'> source_entity='Mewtwo' target_entity='AlexaTheGreat/Amber' significance_level=<SignificanceLevel.SUPPORTING: 'SUPPORTING'> strength=<RelationshipStrength.WEAK: 'WEAK'> current_description='Mewtwo briefly makes eye contact with Amber (AlexaTheGreat), hinting at a possible connection or recognition.' description=\"Mewtwo briefly makes eye contact with Amber (AlexaTheGreat), hinting at a possible connection or recognition. The nature of this connection is unclear, but could be related to Amber's genetic connection to Mewtwo's origins or her role as a clone. The connection hints at a potential plot point.\"\n",
      "relationship_type=<RelationType.PHYSICAL: 'PHYSICAL'> relationship_composition=<RelationCompositionType.ASSOCIATES: 'ASSOCIATES'> source_entity='AlexaTheGreat/Amber' target_entity='Mewtwo' significance_level=<SignificanceLevel.SUPPORTING: 'SUPPORTING'> strength=<RelationshipStrength.WEAK: 'WEAK'> current_description='Amber (AlexaTheGreat) is in the presence of Mewtwo when it escapes. This is a crucial event that sets the plot in motion.' description=\"Amber (AlexaTheGreat) is in the presence of Mewtwo when it escapes. This is a crucial event that sets the plot in motion. Her presence in the lab during the escape places her in danger and connects her to Mewtwo's story.\"\n",
      "relationship_type=<RelationType.SOCIAL: 'SOCIAL'> relationship_composition=<RelationCompositionType.BELONGS_TO: 'BELONGS_TO'> source_entity='Gyarados' target_entity='AlexaTheGreat' significance_level=<SignificanceLevel.SUPPORTING: 'SUPPORTING'> strength=<RelationshipStrength.STRONG: 'STRONG'> current_description='Alexa is the owner of Gyarados.' description='AlexaTheGreat, now Amber, is the trainer and owner of Gyarados in the Pokemon game. She has raised and trained Gyarados since it was a Magikarp.'\n",
      "relationship_type=<RelationType.ORGANIZATIONAL: 'ORGANIZATIONAL'> relationship_composition=<RelationCompositionType.CONTAINS: 'CONTAINS'> source_entity='Dr. Fuji' target_entity='Laboratory' significance_level=<SignificanceLevel.MAJOR: 'MAJOR'> strength=<RelationshipStrength.STRONG: 'STRONG'> current_description='Dr. Fuji conducts experiments in the Laboratory.' description='Dr. Fuji is the lead scientist and operator of the underground laboratory. He uses the lab for his experiments, including the creation of Mewtwo and the cloning of Amber.'\n",
      "relationship_type=<RelationType.PHYSICAL: 'PHYSICAL'> relationship_composition=<RelationCompositionType.CONTAINS: 'CONTAINS'> source_entity='Mewtwo' target_entity='Laboratory' significance_level=<SignificanceLevel.CENTRAL: 'CENTRAL'> strength=<RelationshipStrength.STRONG: 'STRONG'> current_description='Mewtwo was created in the Laboratory.' description=\"The Laboratory is the location where Mewtwo was genetically engineered and brought into existence by Dr. Fuji's research.\"\n",
      "relationship_type=<RelationType.PHYSICAL: 'PHYSICAL'> relationship_composition=<RelationCompositionType.CONTAINS: 'CONTAINS'> source_entity='Amber' target_entity='Laboratory' significance_level=<SignificanceLevel.CENTRAL: 'CENTRAL'> strength=<RelationshipStrength.STRONG: 'STRONG'> current_description='Amber was cloned in the Laboratory.' description='The Laboratory is the location where Amber was cloned by Dr. Fuji. She was suspended in an amber fluid before being released.'\n"
     ]
    }
   ],
   "source": [
    "for relationship in all_relationships:\n",
    "    print(relationship)"
   ]
  },
  {
   "cell_type": "code",
   "execution_count": 43,
   "metadata": {},
   "outputs": [
    {
     "name": "stdout",
     "output_type": "stream",
     "text": [
      "{'Dr. Fuji', 'AlexaTheGreat/Amber'}\n",
      "{'Dr. Fuji', 'AlexaTheGreat/Amber'}\n",
      "{'Mewtwo', 'Dr. Fuji'}\n",
      "{'Dr. Fuji', 'Mewtwo'}\n",
      "{'Mewtwo', 'AlexaTheGreat/Amber'}\n",
      "{'Mewtwo', 'AlexaTheGreat/Amber'}\n",
      "{'Gyarados', 'AlexaTheGreat'}\n",
      "{'Laboratory', 'Dr. Fuji'}\n",
      "{'Laboratory', 'Mewtwo'}\n",
      "{'Amber', 'Laboratory'}\n"
     ]
    }
   ],
   "source": [
    "for relationship in all_relationships:\n",
    "    print(set({relationship.source_entity, relationship.target_entity}))"
   ]
  }
 ],
 "metadata": {
  "kernelspec": {
   "display_name": ".venv",
   "language": "python",
   "name": "python3"
  },
  "language_info": {
   "codemirror_mode": {
    "name": "ipython",
    "version": 3
   },
   "file_extension": ".py",
   "mimetype": "text/x-python",
   "name": "python",
   "nbconvert_exporter": "python",
   "pygments_lexer": "ipython3",
   "version": "3.12.3"
  }
 },
 "nbformat": 4,
 "nbformat_minor": 2
}
